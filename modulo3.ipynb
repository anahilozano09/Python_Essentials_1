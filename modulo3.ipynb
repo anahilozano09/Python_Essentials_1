{
  "cells": [
    {
      "cell_type": "code",
      "execution_count": 1,
      "metadata": {
        "colab": {
          "base_uri": "https://localhost:8080/"
        },
        "id": "-5PsFUxRRaGb",
        "outputId": "6be17207-ac6a-4e47-8fc7-307eaa34a3ba"
      },
      "outputs": [
        {
          "name": "stdout",
          "output_type": "stream",
          "text": [
            "78 True\n"
          ]
        }
      ],
      "source": [
        "n = int(input(\"Ingresa un numero: \"))\n",
        "if n < 100:\n",
        "  print(n, True)\n",
        "else:\n",
        "  print(n,False)"
      ]
    },
    {
      "cell_type": "code",
      "execution_count": 3,
      "metadata": {},
      "outputs": [
        {
          "name": "stdout",
          "output_type": "stream",
          "text": [
            "789 pagada con Tarjeta de credito platino\n"
          ]
        }
      ],
      "source": [
        "n = int(input(\"Ingresa un monto de compra: \"))\n",
        "tipo_pago = ''\n",
        "if n <= 100:\n",
        "  tipo_pago = 'Efectivo'\n",
        "elif n > 100 and n <= 300:\n",
        "    tipo_pago = 'Tarjeta de debito'\n",
        "elif n > 300 and n <= 500:\n",
        "    tipo_pago = 'Tarjeta de credito oro'\n",
        "else:\n",
        "  tipo_pago = 'Tarjeta de credito platino'\n",
        "\n",
        "print(n, 'pagada con', tipo_pago)"
      ]
    },
    {
      "cell_type": "code",
      "execution_count": 4,
      "metadata": {},
      "outputs": [
        {
          "name": "stdout",
          "output_type": "stream",
          "text": [
            "789 Tarjeta de credito platino\n"
          ]
        }
      ],
      "source": [
        "print(n, tipo_pago)"
      ]
    },
    {
      "cell_type": "code",
      "execution_count": 5,
      "metadata": {},
      "outputs": [
        {
          "name": "stdout",
          "output_type": "stream",
          "text": [
            "El numero mayor es: 90\n"
          ]
        }
      ],
      "source": [
        "n1 = int(input(\"Ingresa numero 1: \"))\n",
        "n2 = int(input(\"Ingresa numero 2: \"))\n",
        "n3 = int(input(\"Ingresa numero 3: \"))\n",
        "\n",
        "mayor = n1\n",
        "if(n2 > mayor):\n",
        "    mayor = n2\n",
        "    \n",
        "if(n3 > mayor):\n",
        "    mayor = n3\n",
        "\n",
        "print(f\"El numero mayor es: {mayor}\")"
      ]
    },
    {
      "cell_type": "code",
      "execution_count": 9,
      "metadata": {},
      "outputs": [
        {
          "name": "stdout",
          "output_type": "stream",
          "text": [
            "El numero mayor es:  90\n",
            "El numero menor es:  5\n"
          ]
        }
      ],
      "source": [
        "print(\"El numero mayor es: \", max(n1, n2, n3))\n",
        "print(\"El numero menor es: \", min(n1, n2, n3))"
      ]
    },
    {
      "cell_type": "code",
      "execution_count": 12,
      "metadata": {},
      "outputs": [
        {
          "name": "stdout",
          "output_type": "stream",
          "text": [
            "No es un año del calendario Gregoriano\n"
          ]
        }
      ],
      "source": [
        "a = int(input(\"Ingresa el año: \"))\n",
        "\n",
        "if a >= 1582:\n",
        "    if(a%4 != 0):\n",
        "        print(a, \"es un año comun\")\n",
        "    else:\n",
        "         print(a, \"es un año bisiesto\")\n",
        "else:\n",
        "    print(\"No es un año del calendario Gregoriano\")"
      ]
    },
    {
      "cell_type": "code",
      "execution_count": 14,
      "metadata": {},
      "outputs": [
        {
          "name": "stdout",
          "output_type": "stream",
          "text": [
            "1\n",
            "2\n",
            "3\n",
            "4\n",
            "5\n"
          ]
        }
      ],
      "source": [
        "for i in range(1, 6):\n",
        "    print(i)"
      ]
    },
    {
      "cell_type": "code",
      "execution_count": 15,
      "metadata": {},
      "outputs": [
        {
          "name": "stdout",
          "output_type": "stream",
          "text": [
            "1\n",
            "4\n",
            "7\n",
            "10\n",
            "13\n"
          ]
        }
      ],
      "source": [
        "for i in range(1, 16, 3):\n",
        "    print(i)"
      ]
    },
    {
      "cell_type": "code",
      "execution_count": 16,
      "metadata": {},
      "outputs": [
        {
          "name": "stdout",
          "output_type": "stream",
          "text": [
            "2\n",
            "4\n",
            "6\n",
            "8\n",
            "10\n"
          ]
        }
      ],
      "source": [
        "# Imprimir numero pares\n",
        "for i in range(1, 11):\n",
        "    if i%2 == 0:\n",
        "        print(i)"
      ]
    },
    {
      "cell_type": "code",
      "execution_count": 17,
      "metadata": {},
      "outputs": [
        {
          "name": "stdout",
          "output_type": "stream",
          "text": [
            "1\n",
            "3\n",
            "5\n",
            "7\n",
            "9\n"
          ]
        }
      ],
      "source": [
        "# Imprimir numero impares\n",
        "for i in range(1, 11):\n",
        "    if i%2 != 0:\n",
        "        print(i)"
      ]
    },
    {
      "cell_type": "code",
      "execution_count": 18,
      "metadata": {},
      "outputs": [
        {
          "name": "stdout",
          "output_type": "stream",
          "text": [
            "1\n",
            "2\n"
          ]
        }
      ],
      "source": [
        "#Break\n",
        "for i in range(1, 6):\n",
        "    if i == 3:\n",
        "        break\n",
        "    print(i)"
      ]
    },
    {
      "cell_type": "code",
      "execution_count": 19,
      "metadata": {},
      "outputs": [
        {
          "name": "stdout",
          "output_type": "stream",
          "text": [
            "1\n",
            "2\n",
            "4\n",
            "5\n"
          ]
        }
      ],
      "source": [
        "#Continue\n",
        "for i in range(1, 6):\n",
        "    if i == 3:\n",
        "        continue\n",
        "    print(i)"
      ]
    },
    {
      "cell_type": "code",
      "execution_count": 20,
      "metadata": {},
      "outputs": [
        {
          "name": "stdout",
          "output_type": "stream",
          "text": [
            "Estas atrapado en el bucle\n",
            "Estas atrapado en el bucle\n",
            "Estas atrapado en el bucle\n",
            "Estas atrapado en el bucle\n",
            "Estas atrapado en el bucle\n",
            "Felicidades\n"
          ]
        }
      ],
      "source": [
        "#While\n",
        "numero_magico = 889\n",
        "n = -1\n",
        "while n != numero_magico:\n",
        "    print(\"Estas atrapado en el bucle\")\n",
        "    n = int(input(\"Dame un numero\"))\n",
        "print(\"Felicidades\")"
      ]
    },
    {
      "cell_type": "code",
      "execution_count": 22,
      "metadata": {},
      "outputs": [
        {
          "name": "stdout",
          "output_type": "stream",
          "text": [
            "Tabla del 4\n",
            "4 x 1 = 4\n",
            "4 x 2 = 8\n",
            "4 x 3 = 12\n",
            "4 x 4 = 16\n",
            "4 x 5 = 20\n",
            "4 x 6 = 24\n",
            "4 x 7 = 28\n",
            "4 x 8 = 32\n",
            "4 x 9 = 36\n",
            "4 x 10 = 40\n",
            "Numero invalido\n"
          ]
        }
      ],
      "source": [
        "n = int(input(\"Que tabla quieres ver: \"))\n",
        "while (n >= 1 and n <= 20):\n",
        "    print(f\"Tabla del {n}\")\n",
        "    for i in range(1, 11):\n",
        "        print(n,'x', i, '=', n*i)\n",
        "    n = int(input(\"Que tabla quieres ver: \"))\n",
        "print(\"Numero invalido\")"
      ]
    },
    {
      "cell_type": "code",
      "execution_count": 24,
      "metadata": {},
      "outputs": [
        {
          "name": "stdout",
          "output_type": "stream",
          "text": [
            "<class 'str'>\n",
            "H\n",
            "o\n",
            "l\n",
            "a\n",
            " \n",
            "m\n",
            "u\n",
            "n\n",
            "d\n",
            "o\n"
          ]
        }
      ],
      "source": [
        "c = \"Hola mundo\"\n",
        "print(type(c))\n",
        "for l in c:\n",
        "    print(l)"
      ]
    },
    {
      "cell_type": "code",
      "execution_count": 28,
      "metadata": {},
      "outputs": [
        {
          "name": "stdout",
          "output_type": "stream",
          "text": [
            "<class 'str'>\n",
            "h\n",
            "o\n",
            "o es una vocal\n",
            "l\n",
            "a\n",
            "a es una vocal\n",
            " \n",
            "m\n",
            "u\n",
            "u es una vocal\n",
            "n\n",
            "d\n",
            "o\n",
            "o es una vocal\n",
            "Hola Mundo contiene 4 vocales\n"
          ]
        }
      ],
      "source": [
        "c = \"Hola Mundo\"\n",
        "v = 'aeiou'\n",
        "nv = 0\n",
        "print(type(c))\n",
        "for l in c.lower():\n",
        "    print(l)\n",
        "    if l in v:\n",
        "        print(l, \"es una vocal\")\n",
        "        nv += 1\n",
        "print(c, 'contiene', nv, 'vocales')"
      ]
    }
  ],
  "metadata": {
    "colab": {
      "provenance": []
    },
    "kernelspec": {
      "display_name": "Python 3",
      "name": "python3"
    },
    "language_info": {
      "codemirror_mode": {
        "name": "ipython",
        "version": 3
      },
      "file_extension": ".py",
      "mimetype": "text/x-python",
      "name": "python",
      "nbconvert_exporter": "python",
      "pygments_lexer": "ipython3",
      "version": "3.7.11"
    }
  },
  "nbformat": 4,
  "nbformat_minor": 0
}
