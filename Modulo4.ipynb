{
 "cells": [
  {
   "cell_type": "code",
   "execution_count": 1,
   "metadata": {},
   "outputs": [],
   "source": [
    "#Funcion con un parametro que no regresa valor\n",
    "def saludo(nombre):\n",
    "    print(\"Hola\", nombre)"
   ]
  },
  {
   "cell_type": "code",
   "execution_count": 2,
   "metadata": {},
   "outputs": [
    {
     "name": "stdout",
     "output_type": "stream",
     "text": [
      "Hola Patito23\n"
     ]
    }
   ],
   "source": [
    "saludo(\"Patito23\")"
   ]
  },
  {
   "cell_type": "code",
   "execution_count": 3,
   "metadata": {},
   "outputs": [
    {
     "name": "stdout",
     "output_type": "stream",
     "text": [
      "Hola Patito23\n",
      "<class 'NoneType'>\n",
      "None\n"
     ]
    }
   ],
   "source": [
    "s = saludo(\"Patito23\")\n",
    "print(type(s))\n",
    "print(s)"
   ]
  },
  {
   "cell_type": "code",
   "execution_count": 4,
   "metadata": {},
   "outputs": [],
   "source": [
    "#Funcion con un arreglo de parametros que no regresa valor\n",
    "def saludoDos(*nombre):\n",
    "    print(\"El ultimo nombre es\", nombre[-1])"
   ]
  },
  {
   "cell_type": "code",
   "execution_count": 5,
   "metadata": {},
   "outputs": [
    {
     "ename": "TypeError",
     "evalue": "saludo() takes 1 positional argument but 2 were given",
     "output_type": "error",
     "traceback": [
      "\u001b[0;31m---------------------------------------------------------------------------\u001b[0m",
      "\u001b[0;31mTypeError\u001b[0m                                 Traceback (most recent call last)",
      "\u001b[0;32m<ipython-input-5-48195a1bda2b>\u001b[0m in \u001b[0;36m<module>\u001b[0;34m\u001b[0m\n\u001b[0;32m----> 1\u001b[0;31m \u001b[0msaludo\u001b[0m\u001b[0;34m(\u001b[0m\u001b[0;34m\"Patito23\"\u001b[0m\u001b[0;34m,\u001b[0m \u001b[0;34m\"Patito24\"\u001b[0m\u001b[0;34m)\u001b[0m\u001b[0;34m\u001b[0m\u001b[0;34m\u001b[0m\u001b[0m\n\u001b[0m",
      "\u001b[0;31mTypeError\u001b[0m: saludo() takes 1 positional argument but 2 were given"
     ]
    }
   ],
   "source": [
    "saludo(\"Patito23\", \"Patito24\")"
   ]
  },
  {
   "cell_type": "code",
   "execution_count": 6,
   "metadata": {},
   "outputs": [
    {
     "name": "stdout",
     "output_type": "stream",
     "text": [
      "El ultimo nombre es Aldo\n",
      "El ultimo nombre es Carla\n",
      "El ultimo nombre es Frida\n",
      "El ultimo nombre es Lucas\n"
     ]
    }
   ],
   "source": [
    "saludoDos(\"Aldo\")\n",
    "saludoDos(\"Aldo\",\"Carla\")\n",
    "saludoDos(\"Aldo\",\"Carla\",\"Frida\")\n",
    "saludoDos(\"Aldo\",\"Carla\",\"Frida\",\"Lucas\")"
   ]
  },
  {
   "cell_type": "code",
   "execution_count": 7,
   "metadata": {},
   "outputs": [],
   "source": [
    "#Funcion con un arreglo de parametros que no regresa valor\n",
    "def saludoTres(*parametro):\n",
    "    np = 1\n",
    "    for p in parametro:\n",
    "        print(\"-----\")\n",
    "        print(\"Parametro\", np, p)\n",
    "        print(type(p))\n",
    "        print(id(p))\n",
    "        np +=1"
   ]
  },
  {
   "cell_type": "code",
   "execution_count": 8,
   "metadata": {},
   "outputs": [
    {
     "name": "stdout",
     "output_type": "stream",
     "text": [
      "-----\n",
      "Parametro 1 Aldo\n",
      "<class 'str'>\n",
      "140504851377520\n",
      "-----\n",
      "Parametro 2 Carla\n",
      "<class 'str'>\n",
      "140504853092144\n",
      "-----\n",
      "Parametro 3 Frida\n",
      "<class 'str'>\n",
      "140504853092464\n"
     ]
    }
   ],
   "source": [
    "saludoTres(\"Aldo\",\"Carla\",\"Frida\")"
   ]
  },
  {
   "cell_type": "code",
   "execution_count": 9,
   "metadata": {},
   "outputs": [
    {
     "name": "stdout",
     "output_type": "stream",
     "text": [
      "-----\n",
      "Parametro 1 Aldo\n",
      "<class 'str'>\n",
      "140504853063024\n",
      "-----\n",
      "Parametro 2 10\n",
      "<class 'int'>\n",
      "4425036688\n",
      "-----\n",
      "Parametro 3 18.9\n",
      "<class 'float'>\n",
      "140504834727280\n",
      "-----\n",
      "Parametro 4 True\n",
      "<class 'bool'>\n",
      "4424633776\n",
      "-----\n",
      "Parametro 5 [1, 2]\n",
      "<class 'list'>\n",
      "140504852577728\n",
      "-----\n",
      "Parametro 6 (1, 2)\n",
      "<class 'tuple'>\n",
      "140504834986384\n"
     ]
    }
   ],
   "source": [
    "saludoTres(\"Aldo\",10, 18.90, True, [1,2], (1,2))"
   ]
  },
  {
   "cell_type": "code",
   "execution_count": 11,
   "metadata": {},
   "outputs": [],
   "source": [
    "def sumatoria(*valores):\n",
    "    suma = 0\n",
    "    for v in valores:\n",
    "        if(isinstance(v, int) or isinstance(v, float)):\n",
    "            suma += v\n",
    "    return suma"
   ]
  },
  {
   "cell_type": "code",
   "execution_count": 12,
   "metadata": {},
   "outputs": [
    {
     "name": "stdout",
     "output_type": "stream",
     "text": [
      "0\n"
     ]
    }
   ],
   "source": [
    "suma = sumatoria(\"Aldo\",\"Carla\",\"Frida\",\"1\",\"100\")\n",
    "print(suma)"
   ]
  },
  {
   "cell_type": "code",
   "execution_count": 13,
   "metadata": {},
   "outputs": [
    {
     "name": "stdout",
     "output_type": "stream",
     "text": [
      "29.9\n"
     ]
    }
   ],
   "source": [
    "suma = sumatoria(\"Aldo\",10, 18.90, True, [1,2], (1,2))\n",
    "print(suma)"
   ]
  },
  {
   "cell_type": "code",
   "execution_count": 14,
   "metadata": {},
   "outputs": [],
   "source": [
    "def datos(nombre, edad, ciudad, estatura):\n",
    "    d = {\"Nombre\": nombre, \"Edad\":edad, \"Ciudad\":ciudad, \"Estatura\":estatura}\n",
    "    return d"
   ]
  },
  {
   "cell_type": "code",
   "execution_count": 18,
   "metadata": {},
   "outputs": [
    {
     "name": "stdout",
     "output_type": "stream",
     "text": [
      "{'Nombre': 'Patito23', 'Edad': 18, 'Ciudad': 'CDMX', 'Estatura': 1.7}\n",
      "<class 'dict'>\n",
      "Nombre Patito23\n"
     ]
    }
   ],
   "source": [
    "d = datos(\"Patito23\", 18, \"CDMX\", 1.70)\n",
    "print(d)\n",
    "print(type(d))\n",
    "print(\"Nombre\", d[\"Nombre\"])"
   ]
  },
  {
   "cell_type": "code",
   "execution_count": 19,
   "metadata": {},
   "outputs": [
    {
     "name": "stdout",
     "output_type": "stream",
     "text": [
      "{'Nombre': 18, 'Edad': 'CDMX', 'Ciudad': 1.7, 'Estatura': 'Patito23'}\n",
      "<class 'dict'>\n",
      "Nombre 18\n"
     ]
    }
   ],
   "source": [
    "d = datos( 18, \"CDMX\", 1.70, \"Patito23\")\n",
    "print(d)\n",
    "print(type(d))\n",
    "print(\"Nombre\", d[\"Nombre\"])"
   ]
  },
  {
   "cell_type": "code",
   "execution_count": 20,
   "metadata": {},
   "outputs": [
    {
     "name": "stdout",
     "output_type": "stream",
     "text": [
      "{'Nombre': 'Patito23', 'Edad': 18, 'Ciudad': 'CDMX', 'Estatura': 1.7}\n",
      "<class 'dict'>\n",
      "Nombre Patito23\n"
     ]
    }
   ],
   "source": [
    "d = datos( edad=18, ciudad=\"CDMX\", estatura=1.70, nombre=\"Patito23\")\n",
    "print(d)\n",
    "print(type(d))\n",
    "print(\"Nombre\", d[\"Nombre\"])"
   ]
  },
  {
   "cell_type": "code",
   "execution_count": 21,
   "metadata": {},
   "outputs": [],
   "source": [
    "def circulo(radio, pi=3.141592):\n",
    "    r = float(radio)\n",
    "    perimetro = 2*(pi*r)\n",
    "    area = pi*(r**2)\n",
    "    return {\"area\":area, \"perimetro\":perimetro}"
   ]
  },
  {
   "cell_type": "code",
   "execution_count": 22,
   "metadata": {},
   "outputs": [
    {
     "name": "stdout",
     "output_type": "stream",
     "text": [
      "C1 con radio 5 area = 78.5398 perimetro 31.41592\n",
      "C2 con radio 76 area = 18145.835392 perimetro 477.52198400000003\n"
     ]
    }
   ],
   "source": [
    "c1 = circulo(5)\n",
    "c2 = circulo(76)\n",
    "print(\"C1 con radio 5 area =\", c1[\"area\"],\"perimetro\", c1[\"perimetro\"])\n",
    "print(\"C2 con radio 76 area =\", c2[\"area\"],\"perimetro\", c2[\"perimetro\"])"
   ]
  },
  {
   "cell_type": "code",
   "execution_count": 23,
   "metadata": {},
   "outputs": [
    {
     "name": "stdout",
     "output_type": "stream",
     "text": [
      "C1 con radio 5 area = 78.53999999999999 perimetro 31.416\n",
      "C2 con radio 76 area = 18145.8816 perimetro 477.5232\n"
     ]
    }
   ],
   "source": [
    "c1 = circulo(5, 3.1416)\n",
    "c2 = circulo(76, 3.1416)\n",
    "print(\"C1 con radio 5 area =\", c1[\"area\"],\"perimetro\", c1[\"perimetro\"])\n",
    "print(\"C2 con radio 76 area =\", c2[\"area\"],\"perimetro\", c2[\"perimetro\"])"
   ]
  },
  {
   "cell_type": "code",
   "execution_count": 24,
   "metadata": {},
   "outputs": [],
   "source": [
    "import math\n",
    "from datetime import date\n",
    "from random import randint, choice\n",
    "import statistics as st"
   ]
  },
  {
   "cell_type": "code",
   "execution_count": 25,
   "metadata": {},
   "outputs": [
    {
     "name": "stdout",
     "output_type": "stream",
     "text": [
      "C1 con radio 5 area = 78.53981633974483 perimetro 31.41592653589793\n",
      "C2 con radio 76 area = 18145.839167134644 perimetro 477.5220833456485\n"
     ]
    }
   ],
   "source": [
    "c1 = circulo(5, math.pi)\n",
    "c2 = circulo(76, math.pi)\n",
    "print(\"C1 con radio 5 area =\", c1[\"area\"],\"perimetro\", c1[\"perimetro\"])\n",
    "print(\"C2 con radio 76 area =\", c2[\"area\"],\"perimetro\", c2[\"perimetro\"])"
   ]
  },
  {
   "cell_type": "code",
   "execution_count": 30,
   "metadata": {},
   "outputs": [
    {
     "name": "stdout",
     "output_type": "stream",
     "text": [
      "Raiz Cuadrada de 16 4.0\n",
      "Numero aleatorio entre 1 y 100 50\n",
      "Elegir un valor de una lista CISCO\n"
     ]
    }
   ],
   "source": [
    "print(\"Raiz Cuadrada de 16\", math.sqrt(16))\n",
    "print(\"Numero aleatorio entre 1 y 100\", randint(1,100))\n",
    "print(\"Elegir un valor de una lista\", choice([\"Python\",\"LATAM\",\"CISCO\", \"Patito23\"]))"
   ]
  },
  {
   "cell_type": "code",
   "execution_count": 33,
   "metadata": {},
   "outputs": [
    {
     "name": "stdout",
     "output_type": "stream",
     "text": [
      "Estatisticas\n",
      "Media 1.6643185307179587\n",
      "Mediana 1.45\n",
      "Max 3.141592653589793\n",
      "Min 0.23\n"
     ]
    }
   ],
   "source": [
    "d = [2.5, 1.45, 0.23, math.pi, 1]\n",
    "print(\"Estatisticas\")\n",
    "print(\"Media\", st.mean(d))\n",
    "print(\"Mediana\", st.median(d))\n",
    "print(\"Max\", max(d))\n",
    "print(\"Min\", min(d))"
   ]
  },
  {
   "cell_type": "code",
   "execution_count": 36,
   "metadata": {},
   "outputs": [
    {
     "name": "stdout",
     "output_type": "stream",
     "text": [
      "Suma 18\n",
      "Resta 2\n",
      "Multiplicacion 80\n",
      "Division 1.25\n",
      "No puedo dividir entre 0\n",
      "Division 0 None\n"
     ]
    }
   ],
   "source": [
    "from matematica import aritmetica\n",
    "a = 10\n",
    "b = 8\n",
    "print(\"Suma\", aritmetica.sumar(a,b))\n",
    "print(\"Resta\", aritmetica.restar(a,b))\n",
    "print(\"Multiplicacion\", aritmetica.multiplicar(a,b))\n",
    "print(\"Division\", aritmetica.dividir(a,b))\n",
    "print(\"Division 0\", aritmetica.dividir(a,0))\n"
   ]
  }
 ],
 "metadata": {
  "kernelspec": {
   "display_name": "base",
   "language": "python",
   "name": "python3"
  },
  "language_info": {
   "codemirror_mode": {
    "name": "ipython",
    "version": 3
   },
   "file_extension": ".py",
   "mimetype": "text/x-python",
   "name": "python",
   "nbconvert_exporter": "python",
   "pygments_lexer": "ipython3",
   "version": "3.7.11"
  },
  "orig_nbformat": 4
 },
 "nbformat": 4,
 "nbformat_minor": 2
}
